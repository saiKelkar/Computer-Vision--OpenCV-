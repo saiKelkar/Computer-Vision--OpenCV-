{
 "cells": [
  {
   "cell_type": "code",
   "execution_count": 1,
   "id": "34fb36a4-0e46-49c1-bf9f-3dc00fa9f9af",
   "metadata": {},
   "outputs": [],
   "source": [
    "import cv2\n",
    "import sys"
   ]
  },
  {
   "cell_type": "code",
   "execution_count": null,
   "id": "08fcb48f-6970-400b-a963-fdfda01c5d1b",
   "metadata": {},
   "outputs": [],
   "source": [
    "s = 0\n",
    "if len(sys.argv) > 1:\n",
    "    s = sys.argv[1]\n",
    "\n",
    "source = cv2.VideoCapture(s)\n",
    "\n",
    "win_name = \"Camera Preview\"\n",
    "cv2.namedWindow(win_name, cv2.Window_Normal)\n",
    "\n",
    "while cv2.waitkey(1) != 27: # Escape\n",
    "    "
   ]
  }
 ],
 "metadata": {
  "kernelspec": {
   "display_name": "Python 3 (ipykernel)",
   "language": "python",
   "name": "python3"
  },
  "language_info": {
   "codemirror_mode": {
    "name": "ipython",
    "version": 3
   },
   "file_extension": ".py",
   "mimetype": "text/x-python",
   "name": "python",
   "nbconvert_exporter": "python",
   "pygments_lexer": "ipython3",
   "version": "3.11.11"
  }
 },
 "nbformat": 4,
 "nbformat_minor": 5
}
